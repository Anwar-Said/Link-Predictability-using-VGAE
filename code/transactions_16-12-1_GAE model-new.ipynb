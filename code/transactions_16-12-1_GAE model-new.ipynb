{
 "cells": [
  {
   "cell_type": "code",
   "execution_count": 1,
   "metadata": {
    "colab": {
     "base_uri": "https://localhost:8080/",
     "height": 395
    },
    "id": "MlFlxfL5dgn2",
    "outputId": "a57ec863-efbe-400b-c3b4-5a64f0ece46c"
   },
   "outputs": [],
   "source": [
    "import torch\n",
    "import torch.nn as nn\n",
    "import torch.nn.functional as F\n",
    "import torchvision.transforms as transforms\n",
    "import sklearn.metrics as metrics\n",
    "import torch_geometric.nn as pyg_nn\n",
    "import torch_geometric.utils as pyg_utils\n",
    "from torch_geometric.utils import train_test_split_edges\n",
    "import time\n",
    "from datetime import datetime\n",
    "\n",
    "import networkx as nx\n",
    "import numpy as np\n",
    "import torch\n",
    "import torch.optim as optim\n",
    "import csv\n",
    "from torch_geometric.datasets import TUDataset\n",
    "from torch_geometric.datasets import Planetoid\n",
    "from torch_geometric.data import DataLoader\n",
    "from torch_geometric.utils import train_test_split_edges\n",
    "import torch_geometric.transforms as T\n",
    "from torch_geometric.data import InMemoryDataset\n",
    "from torch_geometric.data import Data, DataLoader\n",
    "from scipy import sparse\n",
    "from tensorboardX import SummaryWriter\n",
    "from sklearn.manifold import TSNE\n",
    "import matplotlib.pyplot as plt\n"
   ]
  },
  {
   "cell_type": "code",
   "execution_count": 30,
   "metadata": {
    "colab": {
     "base_uri": "https://localhost:8080/",
     "height": 580
    },
    "id": "phCgm5idq6TH",
    "outputId": "cfd95379-0102-440a-bd01-497470dcdb7c"
   },
   "outputs": [],
   "source": [
    "class Encoder(torch.nn.Module):\n",
    "    def __init__(self, in_channels, out_channels):\n",
    "        super(Encoder, self).__init__()\n",
    "#         self.conv1 = pyg_nn.GCNConv(in_channels, 2 * out_channels, cached=True)\n",
    "#         self.conv2 = pyg_nn.GCNConv(2 * out_channels, out_channels, cached=True)\n",
    "        self.conv1 = pyg_nn.GraphConv(in_channels, 2 * out_channels)\n",
    "        self.conv2 = pyg_nn.GraphConv(2 * out_channels, out_channels)\n",
    "\n",
    "    def forward(self, x, edge_index):\n",
    "        x = F.relu(self.conv1(x, edge_index))\n",
    "        return self.conv2(x, edge_index)\n",
    "    \n",
    "def train(epoch,val_pos, val_neg):\n",
    "    model.train()\n",
    "    optimizer.zero_grad()\n",
    "    z = model.encode(x, train_pos_edge_index)\n",
    "    loss = model.recon_loss(z, train_pos_edge_index)\n",
    "    loss.backward()\n",
    "    optimizer.step()\n",
    "    AUC, AP = model.test(z, val_pos, val_neg)\n",
    "    return AUC,AP,loss.item()\n",
    "#     writer.add_scalar(\"loss\", loss.item(), epoch)\n",
    "    \n",
    "def test(pos_edge_index, neg_edge_index):\n",
    "    model.eval()\n",
    "    with torch.no_grad():\n",
    "        z = model.encode(x, train_pos_edge_index)\n",
    "        loss = model.recon_loss(z,pos_edge_index)\n",
    "    AUC, AP = model.test(z, pos_edge_index, neg_edge_index)\n",
    "    return AUC,AP,loss.item()\n",
    "\n"
   ]
  },
  {
   "cell_type": "code",
   "execution_count": 26,
   "metadata": {},
   "outputs": [],
   "source": [
    "class MyOwnDataset(InMemoryDataset):\n",
    "    def __init__(self, root, transform=None, pre_transform=None):\n",
    "        super(MyOwnDataset, self).__init__(root, transform, pre_transform)\n",
    "        self.data, self.slices = torch.load(self.processed_paths[0])\n",
    "\n",
    "    @property\n",
    "    def raw_file_names(self):\n",
    "        return ['some_file_1', 'some_file_2', ...]\n",
    "\n",
    "    @property\n",
    "    def processed_file_names(self):\n",
    "#         pass\n",
    "        return ['data.pt']\n",
    "\n",
    "#     def download(self):\n",
    "#         pass\n",
    "#         Download to `self.raw_dir`.\n",
    "\n",
    "    def process(self):\n",
    "        # Read data into huge `Data` list.\n",
    "        graph= nx.read_graphml(\"../data/transactions_16-12-1.graphml\")\n",
    "        graph=nx.Graph(graph)\n",
    "        print(\"graph loaded!!!\", nx.info(graph))\n",
    "        features = np.load(\"../data/transactions_16-12-1.npy\", allow_pickle= True)\n",
    "        edge_features = []\n",
    "#         max_deg = sorted(list(dict(nx.degree(graph)).values()),reverse = True)[0]\n",
    "#         range_ = 100\n",
    "        X =  []\n",
    "        for n in graph.nodes():\n",
    "            f_vect = torch.zeros((100+1,),dtype = torch.float)\n",
    "            deg = nx.degree(graph, n)\n",
    "#             bin_ = int((deg/max_deg)*range_)\n",
    "            if deg>100:\n",
    "                deg = 100\n",
    "            f_vect[deg] = 1\n",
    "            X.append(f_vect)\n",
    "        X = torch.stack(X) \n",
    "#         dic = features.item()\n",
    "#         for k, v in dic.items():\n",
    "#             t = torch.zeros(len(v),dtype = torch.float)\n",
    "#             for index in range(len(v)):\n",
    "#                 t[index] = float(v[index])\n",
    "#             edge_features.append(t)\n",
    "\n",
    "#         edge_features = torch.stack(edge_features) \n",
    "        pyg_g = pyg_utils.from_networkx(graph)\n",
    "        pyg_g.x= X\n",
    "#         pyg_g.edge_attr = edge_features\n",
    "        data_list = [pyg_g]\n",
    "        if self.pre_filter is not None:\n",
    "            data_list = [data for data in data_list if self.pre_filter(data)]\n",
    "        if self.pre_transform is not None:\n",
    "            data_list = [self.pre_transform(data) for data in data_list]\n",
    "        print(\"dataset: \",len(data_list))\n",
    "        data, slices = self.collate(data_list)\n",
    "        torch.save((data, slices), self.processed_paths[0])\n",
    "\n"
   ]
  },
  {
   "cell_type": "code",
   "execution_count": 22,
   "metadata": {},
   "outputs": [],
   "source": [
    "path = '../data/transactions_16-12-1/'\n",
    "# transform = T.OneHotDegree(max_degree=2)\n",
    "# dataset = MyOwnDataset(path,transform = transform)\n",
    "dataset = MyOwnDataset(path)"
   ]
  },
  {
   "cell_type": "code",
   "execution_count": 23,
   "metadata": {},
   "outputs": [
    {
     "name": "stdout",
     "output_type": "stream",
     "text": [
      "CUDA availability: False\n",
      "data loaded successfully!!\n",
      "Data(test_neg_edge_index=[2, 5384], test_pos_edge_index=[2, 5384], train_neg_adj_mask=[34822, 34822], train_pos_edge_index=[2, 96930], val_neg_edge_index=[2, 0], val_pos_edge_index=[2, 0], x=[34822, 101])\n"
     ]
    }
   ],
   "source": [
    "# writer = SummaryWriter(\"./log/\" + datetime.now().strftime(\"%Y%m%d-%H%M%S\"))\n",
    "\n",
    "# dataset = Planetoid(root='/tmp/cora', name='cora')\n",
    "# task = 'node'\n",
    "\n",
    "# model = train(dataset, task, writer)\n",
    "\n",
    "data = dataset[0]\n",
    "channels = 8\n",
    "dev = torch.device('cuda' if torch.cuda.is_available() else 'cpu')\n",
    "print('CUDA availability:', torch.cuda.is_available())\n",
    "\n",
    "# encoder: written by us; decoder: default (inner product)\n",
    "\n",
    "print(\"data loaded successfully!!\")\n",
    "data.train_mask = data.val_mask = data.test_mask = data.y = None\n",
    "data = train_test_split_edges(data,val_ratio=0.0, test_ratio=0.1)\n",
    "print(data)\n",
    "x, train_pos_edge_index = data.x.to(dev), data.train_pos_edge_index.to(dev)\n"
   ]
  },
  {
   "cell_type": "code",
   "execution_count": 32,
   "metadata": {},
   "outputs": [
    {
     "name": "stdout",
     "output_type": "stream",
     "text": [
      "now training the model\n",
      "Epoch: 000, AUC_train: 0.3208,AUC_test:0.3496 loss_train: 28.0752, loss_test:31.2324\n",
      "Epoch: 001, AUC_train: 0.3496,AUC_test:0.3641 loss_train: 23.9758, loss_test:31.2247\n",
      "Epoch: 002, AUC_train: 0.3641,AUC_test:0.3675 loss_train: 22.9126, loss_test:30.7359\n",
      "Epoch: 003, AUC_train: 0.3675,AUC_test:0.3761 loss_train: 22.1393, loss_test:29.0811\n",
      "Epoch: 004, AUC_train: 0.3761,AUC_test:0.4586 loss_train: 20.4541, loss_test:22.8174\n",
      "Epoch: 005, AUC_train: 0.4586,AUC_test:0.4228 loss_train: 15.8151, loss_test:25.6831\n",
      "Epoch: 006, AUC_train: 0.4228,AUC_test:0.4972 loss_train: 17.0856, loss_test:22.6598\n",
      "Epoch: 007, AUC_train: 0.4972,AUC_test:0.5282 loss_train: 13.7251, loss_test:21.7694\n",
      "Epoch: 008, AUC_train: 0.5282,AUC_test:0.5012 loss_train: 12.8996, loss_test:23.0188\n",
      "Epoch: 009, AUC_train: 0.5012,AUC_test:0.4505 loss_train: 12.5202, loss_test:25.6292\n",
      "Epoch: 010, AUC_train: 0.4505,AUC_test:0.5429 loss_train: 18.5182, loss_test:21.8869\n",
      "Epoch: 011, AUC_train: 0.5429,AUC_test:0.5342 loss_train: 12.9696, loss_test:22.4910\n",
      "Epoch: 012, AUC_train: 0.5342,AUC_test:0.5181 loss_train: 13.5559, loss_test:23.3702\n",
      "Epoch: 013, AUC_train: 0.5181,AUC_test:0.5165 loss_train: 14.6273, loss_test:23.5276\n",
      "Epoch: 014, AUC_train: 0.5165,AUC_test:0.5197 loss_train: 14.7473, loss_test:23.3633\n",
      "Epoch: 015, AUC_train: 0.5197,AUC_test:0.5167 loss_train: 15.6395, loss_test:23.4815\n",
      "Epoch: 016, AUC_train: 0.5167,AUC_test:0.5183 loss_train: 15.0727, loss_test:23.2401\n",
      "Epoch: 017, AUC_train: 0.5183,AUC_test:0.5356 loss_train: 14.7203, loss_test:22.2905\n",
      "Epoch: 018, AUC_train: 0.5356,AUC_test:0.5339 loss_train: 13.5817, loss_test:22.3389\n",
      "Epoch: 019, AUC_train: 0.5339,AUC_test:0.5342 loss_train: 13.5719, loss_test:21.8871\n",
      "Epoch: 020, AUC_train: 0.5342,AUC_test:0.5396 loss_train: 13.3386, loss_test:21.3391\n",
      "Epoch: 021, AUC_train: 0.5396,AUC_test:0.5065 loss_train: 12.7733, loss_test:22.2405\n",
      "Epoch: 022, AUC_train: 0.5065,AUC_test:0.5373 loss_train: 12.6074, loss_test:21.0588\n",
      "Epoch: 023, AUC_train: 0.5373,AUC_test:0.5558 loss_train: 11.8725, loss_test:19.7854\n",
      "Epoch: 024, AUC_train: 0.5558,AUC_test:0.5611 loss_train: 10.5937, loss_test:19.8022\n",
      "Epoch: 025, AUC_train: 0.5611,AUC_test:0.5728 loss_train: 10.8493, loss_test:19.5760\n",
      "Epoch: 026, AUC_train: 0.5728,AUC_test:0.5750 loss_train: 11.0721, loss_test:19.6385\n",
      "Epoch: 027, AUC_train: 0.5750,AUC_test:0.5705 loss_train: 11.2309, loss_test:19.7984\n",
      "Epoch: 028, AUC_train: 0.5705,AUC_test:0.5877 loss_train: 11.1372, loss_test:19.9029\n",
      "Epoch: 029, AUC_train: 0.5877,AUC_test:0.5892 loss_train: 11.6440, loss_test:19.9273\n",
      "Epoch: 030, AUC_train: 0.5892,AUC_test:0.5923 loss_train: 12.1756, loss_test:19.7138\n",
      "Epoch: 031, AUC_train: 0.5923,AUC_test:0.5937 loss_train: 12.4383, loss_test:19.6293\n",
      "Epoch: 032, AUC_train: 0.5937,AUC_test:0.5956 loss_train: 12.6115, loss_test:19.4360\n",
      "Epoch: 033, AUC_train: 0.5956,AUC_test:0.5999 loss_train: 12.9025, loss_test:19.0473\n",
      "Epoch: 034, AUC_train: 0.5999,AUC_test:0.6060 loss_train: 13.0368, loss_test:18.6640\n",
      "Epoch: 035, AUC_train: 0.6060,AUC_test:0.6126 loss_train: 13.0134, loss_test:18.0205\n",
      "Epoch: 036, AUC_train: 0.6126,AUC_test:0.6204 loss_train: 13.0590, loss_test:17.0675\n",
      "Epoch: 037, AUC_train: 0.6204,AUC_test:0.6255 loss_train: 13.0423, loss_test:16.5903\n",
      "Epoch: 038, AUC_train: 0.6255,AUC_test:0.6285 loss_train: 13.0628, loss_test:16.0287\n",
      "Epoch: 039, AUC_train: 0.6285,AUC_test:0.6337 loss_train: 13.2667, loss_test:15.6113\n",
      "Epoch: 040, AUC_train: 0.6337,AUC_test:0.6416 loss_train: 13.2227, loss_test:15.1510\n",
      "Epoch: 041, AUC_train: 0.6416,AUC_test:0.6478 loss_train: 13.1673, loss_test:15.0003\n",
      "Epoch: 042, AUC_train: 0.6478,AUC_test:0.6531 loss_train: 13.0460, loss_test:14.6786\n",
      "Epoch: 043, AUC_train: 0.6531,AUC_test:0.6574 loss_train: 12.8231, loss_test:14.5766\n",
      "Epoch: 044, AUC_train: 0.6574,AUC_test:0.6608 loss_train: 12.8791, loss_test:14.2593\n",
      "Epoch: 045, AUC_train: 0.6608,AUC_test:0.6668 loss_train: 12.8129, loss_test:14.0511\n",
      "Epoch: 046, AUC_train: 0.6668,AUC_test:0.6710 loss_train: 12.7643, loss_test:13.9581\n",
      "Epoch: 047, AUC_train: 0.6710,AUC_test:0.6755 loss_train: 12.6479, loss_test:13.3356\n",
      "Epoch: 048, AUC_train: 0.6755,AUC_test:0.6804 loss_train: 12.3937, loss_test:13.0392\n",
      "Epoch: 049, AUC_train: 0.6804,AUC_test:0.6857 loss_train: 12.2673, loss_test:12.7231\n",
      "Epoch: 050, AUC_train: 0.6857,AUC_test:0.6861 loss_train: 12.1107, loss_test:13.0185\n",
      "Epoch: 051, AUC_train: 0.6861,AUC_test:0.6877 loss_train: 11.9885, loss_test:12.8788\n",
      "Epoch: 052, AUC_train: 0.6877,AUC_test:0.6910 loss_train: 12.0226, loss_test:12.7133\n",
      "Epoch: 053, AUC_train: 0.6910,AUC_test:0.6949 loss_train: 11.8343, loss_test:12.4936\n",
      "Epoch: 054, AUC_train: 0.6949,AUC_test:0.7013 loss_train: 11.5771, loss_test:12.2989\n",
      "Epoch: 055, AUC_train: 0.7013,AUC_test:0.7044 loss_train: 11.3850, loss_test:11.9998\n",
      "Epoch: 056, AUC_train: 0.7044,AUC_test:0.7080 loss_train: 11.2246, loss_test:11.9673\n",
      "Epoch: 057, AUC_train: 0.7080,AUC_test:0.7138 loss_train: 11.1819, loss_test:11.5555\n",
      "Epoch: 058, AUC_train: 0.7138,AUC_test:0.7191 loss_train: 11.1855, loss_test:11.4951\n",
      "Epoch: 059, AUC_train: 0.7191,AUC_test:0.7210 loss_train: 10.9632, loss_test:11.2187\n",
      "Epoch: 060, AUC_train: 0.7210,AUC_test:0.7242 loss_train: 10.9701, loss_test:11.1275\n",
      "Epoch: 061, AUC_train: 0.7242,AUC_test:0.7270 loss_train: 10.8119, loss_test:10.7924\n",
      "Epoch: 062, AUC_train: 0.7270,AUC_test:0.7286 loss_train: 10.7447, loss_test:10.9582\n",
      "Epoch: 063, AUC_train: 0.7286,AUC_test:0.7303 loss_train: 10.7085, loss_test:10.8679\n",
      "Epoch: 064, AUC_train: 0.7303,AUC_test:0.7324 loss_train: 10.6252, loss_test:10.8395\n",
      "Epoch: 065, AUC_train: 0.7324,AUC_test:0.7347 loss_train: 10.5416, loss_test:10.7541\n",
      "Epoch: 066, AUC_train: 0.7347,AUC_test:0.7394 loss_train: 10.4591, loss_test:10.5506\n",
      "Epoch: 067, AUC_train: 0.7394,AUC_test:0.7422 loss_train: 10.3712, loss_test:10.4314\n",
      "Epoch: 068, AUC_train: 0.7422,AUC_test:0.7527 loss_train: 10.2663, loss_test:10.3334\n",
      "Epoch: 069, AUC_train: 0.7527,AUC_test:0.7606 loss_train: 10.0169, loss_test:9.7007\n",
      "Epoch: 070, AUC_train: 0.7606,AUC_test:0.7756 loss_train: 9.6604, loss_test:9.1090\n",
      "Epoch: 071, AUC_train: 0.7756,AUC_test:0.7962 loss_train: 9.0066, loss_test:8.5710\n",
      "Epoch: 072, AUC_train: 0.7962,AUC_test:0.8010 loss_train: 8.3272, loss_test:8.1381\n",
      "Epoch: 073, AUC_train: 0.8010,AUC_test:0.8204 loss_train: 8.0939, loss_test:7.4622\n",
      "Epoch: 074, AUC_train: 0.8204,AUC_test:0.8216 loss_train: 7.2955, loss_test:7.2875\n",
      "Epoch: 075, AUC_train: 0.8216,AUC_test:0.8247 loss_train: 7.2870, loss_test:7.3201\n",
      "Epoch: 076, AUC_train: 0.8247,AUC_test:0.8267 loss_train: 7.2309, loss_test:7.1747\n",
      "Epoch: 077, AUC_train: 0.8267,AUC_test:0.8294 loss_train: 7.1213, loss_test:6.8380\n",
      "Epoch: 078, AUC_train: 0.8294,AUC_test:0.8307 loss_train: 6.8442, loss_test:6.7187\n",
      "Epoch: 079, AUC_train: 0.8307,AUC_test:0.8319 loss_train: 6.2800, loss_test:6.6639\n",
      "Epoch: 080, AUC_train: 0.8319,AUC_test:0.8400 loss_train: 6.1633, loss_test:6.2981\n",
      "Epoch: 081, AUC_train: 0.8400,AUC_test:0.8384 loss_train: 6.1427, loss_test:6.2268\n",
      "Epoch: 082, AUC_train: 0.8384,AUC_test:0.8374 loss_train: 6.1606, loss_test:6.0128\n",
      "Epoch: 083, AUC_train: 0.8374,AUC_test:0.8404 loss_train: 6.0481, loss_test:5.9855\n",
      "Epoch: 084, AUC_train: 0.8404,AUC_test:0.8378 loss_train: 5.8312, loss_test:5.9418\n",
      "Epoch: 085, AUC_train: 0.8378,AUC_test:0.8331 loss_train: 5.7298, loss_test:5.9330\n",
      "Epoch: 086, AUC_train: 0.8331,AUC_test:0.8238 loss_train: 5.5101, loss_test:5.7359\n",
      "Epoch: 087, AUC_train: 0.8238,AUC_test:0.8287 loss_train: 5.1428, loss_test:5.4049\n",
      "Epoch: 088, AUC_train: 0.8287,AUC_test:0.8361 loss_train: 5.0128, loss_test:5.1804\n",
      "Epoch: 089, AUC_train: 0.8361,AUC_test:0.8570 loss_train: 4.7860, loss_test:4.6161\n",
      "Epoch: 090, AUC_train: 0.8570,AUC_test:0.8674 loss_train: 4.3368, loss_test:4.2715\n",
      "Epoch: 091, AUC_train: 0.8674,AUC_test:0.8857 loss_train: 4.0638, loss_test:3.7593\n",
      "Epoch: 092, AUC_train: 0.8857,AUC_test:0.8880 loss_train: 3.6360, loss_test:3.6812\n",
      "Epoch: 093, AUC_train: 0.8880,AUC_test:0.8930 loss_train: 3.6459, loss_test:3.6586\n",
      "Epoch: 094, AUC_train: 0.8930,AUC_test:0.8949 loss_train: 3.6023, loss_test:3.5094\n",
      "Epoch: 095, AUC_train: 0.8949,AUC_test:0.8962 loss_train: 3.5726, loss_test:3.6379\n",
      "Epoch: 096, AUC_train: 0.8962,AUC_test:0.8969 loss_train: 3.6397, loss_test:3.6024\n"
     ]
    },
    {
     "name": "stdout",
     "output_type": "stream",
     "text": [
      "Epoch: 097, AUC_train: 0.8969,AUC_test:0.8977 loss_train: 3.5758, loss_test:3.5580\n",
      "Epoch: 098, AUC_train: 0.8977,AUC_test:0.8979 loss_train: 3.5652, loss_test:3.6010\n",
      "Epoch: 099, AUC_train: 0.8979,AUC_test:0.8985 loss_train: 3.5910, loss_test:3.5341\n",
      "Epoch: 100, AUC_train: 0.8985,AUC_test:0.8988 loss_train: 3.5925, loss_test:3.6456\n",
      "Epoch: 101, AUC_train: 0.8988,AUC_test:0.8990 loss_train: 3.6496, loss_test:3.5845\n",
      "Epoch: 102, AUC_train: 0.8990,AUC_test:0.8994 loss_train: 3.6005, loss_test:3.4970\n",
      "Epoch: 103, AUC_train: 0.8994,AUC_test:0.8995 loss_train: 3.5705, loss_test:3.6433\n",
      "Epoch: 104, AUC_train: 0.8995,AUC_test:0.9003 loss_train: 3.5596, loss_test:3.5016\n",
      "Epoch: 105, AUC_train: 0.9003,AUC_test:0.8905 loss_train: 3.5362, loss_test:3.7108\n",
      "Epoch: 106, AUC_train: 0.8905,AUC_test:0.9011 loss_train: 3.5935, loss_test:3.6532\n",
      "Epoch: 107, AUC_train: 0.9011,AUC_test:0.9015 loss_train: 3.5670, loss_test:3.6332\n",
      "Epoch: 108, AUC_train: 0.9015,AUC_test:0.9018 loss_train: 3.5748, loss_test:3.5735\n",
      "Epoch: 109, AUC_train: 0.9018,AUC_test:0.9023 loss_train: 3.5169, loss_test:3.5883\n",
      "Epoch: 110, AUC_train: 0.9023,AUC_test:0.9025 loss_train: 3.5334, loss_test:3.5338\n",
      "Epoch: 111, AUC_train: 0.9025,AUC_test:0.9025 loss_train: 3.5181, loss_test:3.5159\n",
      "Epoch: 112, AUC_train: 0.9025,AUC_test:0.9023 loss_train: 3.5694, loss_test:3.5519\n",
      "Epoch: 113, AUC_train: 0.9023,AUC_test:0.9022 loss_train: 3.5228, loss_test:3.4980\n",
      "Epoch: 114, AUC_train: 0.9022,AUC_test:0.9023 loss_train: 3.5161, loss_test:3.6115\n",
      "Epoch: 115, AUC_train: 0.9023,AUC_test:0.9025 loss_train: 3.5452, loss_test:3.4755\n",
      "Epoch: 116, AUC_train: 0.9025,AUC_test:0.9029 loss_train: 3.4566, loss_test:3.5101\n",
      "Epoch: 117, AUC_train: 0.9029,AUC_test:0.9033 loss_train: 3.4546, loss_test:3.4452\n",
      "Epoch: 118, AUC_train: 0.9033,AUC_test:0.9033 loss_train: 3.4510, loss_test:3.4608\n",
      "Epoch: 119, AUC_train: 0.9033,AUC_test:0.9027 loss_train: 3.4674, loss_test:3.4812\n",
      "Epoch: 120, AUC_train: 0.9027,AUC_test:0.9030 loss_train: 3.4384, loss_test:3.3988\n",
      "Epoch: 121, AUC_train: 0.9030,AUC_test:0.9033 loss_train: 3.4163, loss_test:3.4218\n",
      "Epoch: 122, AUC_train: 0.9033,AUC_test:0.9027 loss_train: 3.4212, loss_test:3.2892\n",
      "Epoch: 123, AUC_train: 0.9027,AUC_test:0.9025 loss_train: 3.3709, loss_test:3.4449\n",
      "Epoch: 124, AUC_train: 0.9025,AUC_test:0.9001 loss_train: 3.3901, loss_test:3.4639\n",
      "Epoch: 125, AUC_train: 0.9001,AUC_test:0.8663 loss_train: 3.3831, loss_test:4.0428\n",
      "Epoch: 126, AUC_train: 0.8663,AUC_test:0.8528 loss_train: 4.0307, loss_test:4.3149\n",
      "Epoch: 127, AUC_train: 0.8528,AUC_test:0.8121 loss_train: 4.3540, loss_test:4.3731\n",
      "Epoch: 128, AUC_train: 0.8121,AUC_test:0.6386 loss_train: 4.2588, loss_test:6.4941\n",
      "Epoch: 129, AUC_train: 0.6386,AUC_test:0.4384 loss_train: 4.1616, loss_test:9.8127\n",
      "Epoch: 130, AUC_train: 0.4384,AUC_test:0.6545 loss_train: 4.6968, loss_test:6.2521\n",
      "Epoch: 131, AUC_train: 0.6545,AUC_test:0.8494 loss_train: 4.0745, loss_test:4.0651\n",
      "Epoch: 132, AUC_train: 0.8494,AUC_test:0.8647 loss_train: 4.0431, loss_test:3.9121\n",
      "Epoch: 133, AUC_train: 0.8647,AUC_test:0.8680 loss_train: 3.9278, loss_test:3.9263\n",
      "Epoch: 134, AUC_train: 0.8680,AUC_test:0.8738 loss_train: 3.8910, loss_test:3.8327\n",
      "Epoch: 135, AUC_train: 0.8738,AUC_test:0.8758 loss_train: 3.8109, loss_test:3.7432\n",
      "Epoch: 136, AUC_train: 0.8758,AUC_test:0.8759 loss_train: 3.7709, loss_test:3.6775\n",
      "Epoch: 137, AUC_train: 0.8759,AUC_test:0.8767 loss_train: 3.6786, loss_test:3.6619\n",
      "Epoch: 138, AUC_train: 0.8767,AUC_test:0.8775 loss_train: 3.6422, loss_test:3.6461\n",
      "Epoch: 139, AUC_train: 0.8775,AUC_test:0.8772 loss_train: 3.6384, loss_test:3.5998\n",
      "Epoch: 140, AUC_train: 0.8772,AUC_test:0.8762 loss_train: 3.6286, loss_test:3.5626\n",
      "Epoch: 141, AUC_train: 0.8762,AUC_test:0.8756 loss_train: 3.5991, loss_test:3.5165\n",
      "Epoch: 142, AUC_train: 0.8756,AUC_test:0.8752 loss_train: 3.6146, loss_test:3.5522\n",
      "Epoch: 143, AUC_train: 0.8752,AUC_test:0.8751 loss_train: 3.5845, loss_test:3.5776\n",
      "Epoch: 144, AUC_train: 0.8751,AUC_test:0.8747 loss_train: 3.5910, loss_test:3.4982\n",
      "Epoch: 145, AUC_train: 0.8747,AUC_test:0.8744 loss_train: 3.5523, loss_test:3.5546\n",
      "Epoch: 146, AUC_train: 0.8744,AUC_test:0.8747 loss_train: 3.5170, loss_test:3.4760\n",
      "Epoch: 147, AUC_train: 0.8747,AUC_test:0.8747 loss_train: 3.4726, loss_test:3.4834\n",
      "Epoch: 148, AUC_train: 0.8747,AUC_test:0.8751 loss_train: 3.5029, loss_test:3.4412\n",
      "Epoch: 149, AUC_train: 0.8751,AUC_test:0.8752 loss_train: 3.4910, loss_test:3.4186\n",
      "Epoch: 150, AUC_train: 0.8752,AUC_test:0.8755 loss_train: 3.4904, loss_test:3.5399\n",
      "Epoch: 151, AUC_train: 0.8755,AUC_test:0.8759 loss_train: 3.4226, loss_test:3.3750\n",
      "Epoch: 152, AUC_train: 0.8759,AUC_test:0.8768 loss_train: 3.4614, loss_test:3.4260\n",
      "Epoch: 153, AUC_train: 0.8768,AUC_test:0.8767 loss_train: 3.4539, loss_test:3.3312\n",
      "Epoch: 154, AUC_train: 0.8767,AUC_test:0.8772 loss_train: 3.3916, loss_test:3.4176\n",
      "Epoch: 155, AUC_train: 0.8772,AUC_test:0.8773 loss_train: 3.4055, loss_test:3.3420\n",
      "Epoch: 156, AUC_train: 0.8773,AUC_test:0.8777 loss_train: 3.4718, loss_test:3.3369\n",
      "Epoch: 157, AUC_train: 0.8777,AUC_test:0.8784 loss_train: 3.4326, loss_test:3.4171\n",
      "Epoch: 158, AUC_train: 0.8784,AUC_test:0.8787 loss_train: 3.4020, loss_test:3.4155\n",
      "Epoch: 159, AUC_train: 0.8787,AUC_test:0.8792 loss_train: 3.3884, loss_test:3.3814\n",
      "Epoch: 160, AUC_train: 0.8792,AUC_test:0.8794 loss_train: 3.3732, loss_test:3.3841\n",
      "Epoch: 161, AUC_train: 0.8794,AUC_test:0.8799 loss_train: 3.3408, loss_test:3.4300\n",
      "Epoch: 162, AUC_train: 0.8799,AUC_test:0.8801 loss_train: 3.4017, loss_test:3.2632\n",
      "Epoch: 163, AUC_train: 0.8801,AUC_test:0.8805 loss_train: 3.3692, loss_test:3.3762\n",
      "Epoch: 164, AUC_train: 0.8805,AUC_test:0.8807 loss_train: 3.3810, loss_test:3.3459\n",
      "Epoch: 165, AUC_train: 0.8807,AUC_test:0.8809 loss_train: 3.3574, loss_test:3.3583\n",
      "Epoch: 166, AUC_train: 0.8809,AUC_test:0.8814 loss_train: 3.3504, loss_test:3.3601\n",
      "Epoch: 167, AUC_train: 0.8814,AUC_test:0.8818 loss_train: 3.3757, loss_test:3.3367\n",
      "Epoch: 168, AUC_train: 0.8818,AUC_test:0.8822 loss_train: 3.3812, loss_test:3.2463\n",
      "Epoch: 169, AUC_train: 0.8822,AUC_test:0.8826 loss_train: 3.3486, loss_test:3.3985\n",
      "Epoch: 170, AUC_train: 0.8826,AUC_test:0.8837 loss_train: 3.3211, loss_test:3.3794\n",
      "Epoch: 171, AUC_train: 0.8837,AUC_test:0.8841 loss_train: 3.3243, loss_test:3.3390\n",
      "Epoch: 172, AUC_train: 0.8841,AUC_test:0.8846 loss_train: 3.2679, loss_test:3.3839\n",
      "Epoch: 173, AUC_train: 0.8846,AUC_test:0.8852 loss_train: 3.3205, loss_test:3.3549\n",
      "Epoch: 174, AUC_train: 0.8852,AUC_test:0.8861 loss_train: 3.3402, loss_test:3.3472\n",
      "Epoch: 175, AUC_train: 0.8861,AUC_test:0.8869 loss_train: 3.3192, loss_test:3.3161\n",
      "Epoch: 176, AUC_train: 0.8869,AUC_test:0.8878 loss_train: 3.2912, loss_test:3.3625\n",
      "Epoch: 177, AUC_train: 0.8878,AUC_test:0.8880 loss_train: 3.3012, loss_test:3.3559\n",
      "Epoch: 178, AUC_train: 0.8880,AUC_test:0.8884 loss_train: 3.3242, loss_test:3.3631\n",
      "Epoch: 179, AUC_train: 0.8884,AUC_test:0.8877 loss_train: 3.2833, loss_test:3.3564\n",
      "Epoch: 180, AUC_train: 0.8877,AUC_test:0.8888 loss_train: 3.2863, loss_test:3.3139\n",
      "Epoch: 181, AUC_train: 0.8888,AUC_test:0.8894 loss_train: 3.3102, loss_test:3.2887\n",
      "Epoch: 182, AUC_train: 0.8894,AUC_test:0.8880 loss_train: 3.2677, loss_test:3.2650\n",
      "Epoch: 183, AUC_train: 0.8880,AUC_test:0.8886 loss_train: 3.3016, loss_test:3.2705\n",
      "Epoch: 184, AUC_train: 0.8886,AUC_test:0.8889 loss_train: 3.3312, loss_test:3.3894\n",
      "Epoch: 185, AUC_train: 0.8889,AUC_test:0.8888 loss_train: 3.2981, loss_test:3.3178\n",
      "Epoch: 186, AUC_train: 0.8888,AUC_test:0.8894 loss_train: 3.2903, loss_test:3.2890\n",
      "Epoch: 187, AUC_train: 0.8894,AUC_test:0.8889 loss_train: 3.2962, loss_test:3.3809\n",
      "Epoch: 188, AUC_train: 0.8889,AUC_test:0.8810 loss_train: 3.2911, loss_test:3.4403\n",
      "Epoch: 189, AUC_train: 0.8810,AUC_test:0.8795 loss_train: 3.2934, loss_test:3.3125\n",
      "Epoch: 190, AUC_train: 0.8795,AUC_test:0.8778 loss_train: 3.2895, loss_test:3.4157\n",
      "Epoch: 191, AUC_train: 0.8778,AUC_test:0.8765 loss_train: 3.2545, loss_test:3.3704\n",
      "Epoch: 192, AUC_train: 0.8765,AUC_test:0.8764 loss_train: 3.3020, loss_test:3.3663\n",
      "Epoch: 193, AUC_train: 0.8764,AUC_test:0.8763 loss_train: 3.2642, loss_test:3.5175\n",
      "Epoch: 194, AUC_train: 0.8763,AUC_test:0.8760 loss_train: 3.2586, loss_test:3.6031\n",
      "Epoch: 195, AUC_train: 0.8760,AUC_test:0.8753 loss_train: 3.2393, loss_test:3.5269\n"
     ]
    },
    {
     "name": "stdout",
     "output_type": "stream",
     "text": [
      "Epoch: 196, AUC_train: 0.8753,AUC_test:0.8754 loss_train: 3.2549, loss_test:3.5680\n",
      "Epoch: 197, AUC_train: 0.8754,AUC_test:0.8756 loss_train: 3.2591, loss_test:3.6856\n",
      "Epoch: 198, AUC_train: 0.8756,AUC_test:0.8760 loss_train: 3.2478, loss_test:3.6345\n",
      "Epoch: 199, AUC_train: 0.8760,AUC_test:0.8767 loss_train: 3.2413, loss_test:3.6047\n"
     ]
    }
   ],
   "source": [
    "model = pyg_nn.GAE(Encoder(dataset.num_features, channels)).to(dev)\n",
    "labels = data.y\n",
    "optimizer = torch.optim.Adam(model.parameters(), lr=0.01)\n",
    "print(\"now training the model\")\n",
    "AUC_, AP_,AUC_train, AP_train,train_loss,test_loss = [],[],[],[],[],[]\n",
    "for epoch in range(0, 200):\n",
    "    AUC_tr, AP_tr,tr_loss = train(epoch,data.test_pos_edge_index, data.test_neg_edge_index)\n",
    "    AUC_train.append(AUC_tr)\n",
    "    AP_train.append(AP_tr)\n",
    "    auc, ap,test_l= test(data.test_pos_edge_index, data.test_neg_edge_index)\n",
    "    AUC_.append(auc)\n",
    "    AP_.append(ap)\n",
    "    train_loss.append(tr_loss)\n",
    "    test_loss.append(test_l)\n",
    "#     writer.add_scalar(\"AUC\", auc, epoch)\n",
    "#     writer.add_scalar(\"AP\", ap, epoch)\n",
    "#     if epoch % 10 == 0:\n",
    "    print('Epoch: {:03d}, AUC_train: {:.4f},AUC_test:{:.4f} loss_train: {:.4f}, loss_test:{:.4f}'.format(epoch, AUC_tr, auc,tr_loss, test_l))"
   ]
  },
  {
   "cell_type": "code",
   "execution_count": 2,
   "metadata": {},
   "outputs": [],
   "source": [
    "# AUC_[-1], AP_[-1]"
   ]
  },
  {
   "cell_type": "code",
   "execution_count": 18,
   "metadata": {},
   "outputs": [],
   "source": [
    "file = open(\"results_transactions_16-12-1.csv\",'a',newline = '')\n",
    "res_writer = csv.writer(file, delimiter=',',quotechar='|', quoting=csv.QUOTE_MINIMAL)\n",
    "res_writer.writerow([\"sequence => auc_train\",\"auc_test\",\"ap_train\",\"ap_test\",\"train loss\",\"test loss\"])\n",
    "res_writer.writerow(AUC_train)\n",
    "res_writer.writerow(AUC_)\n",
    "res_writer.writerow(AP_train)\n",
    "res_writer.writerow(AP_)\n",
    "res_writer.writerow(train_loss)\n",
    "res_writer.writerow(test_loss)\n",
    "file.flush()\n",
    "file.close()"
   ]
  },
  {
   "cell_type": "code",
   "execution_count": 39,
   "metadata": {},
   "outputs": [
    {
     "data": {
      "image/png": "[encoded data removed]",
      "text/plain": [
       "<Figure size 432x288 with 1 Axes>"
      ]
     },
     "metadata": {
      "needs_background": "light"
     },
     "output_type": "display_data"
    }
   ],
   "source": [
    "fig = plt.figure()\n",
    "\n",
    "plt.plot(AUC_train[:100],linewidth=2, label = 'AUC_train')\n",
    "plt.plot(AUC_[:100],linewidth=2, label = 'AUC_test')\n",
    "plt.legend()\n",
    "plt.xlabel(\"#epochs\")\n",
    "plt.ylabel(\"AUC\")\n",
    "plt.show()\n",
    "fig.savefig(\"../figures/transactions_16-12-11_AUC_curves1-new.pdf\")"
   ]
  },
  {
   "cell_type": "code",
   "execution_count": 40,
   "metadata": {},
   "outputs": [
    {
     "data": {
      "image/png": "[encoded data removed]",
      "text/plain": [
       "<Figure size 432x288 with 1 Axes>"
      ]
     },
     "metadata": {
      "needs_background": "light"
     },
     "output_type": "display_data"
    }
   ],
   "source": [
    "fig = plt.figure()\n",
    "\n",
    "plt.plot(AP_train[:100],linewidth=2, label = 'AP_train')\n",
    "plt.plot(AP_[:100],linewidth=2, label = 'AP_test')\n",
    "plt.legend()\n",
    "plt.xlabel(\"#epochs\")\n",
    "plt.ylabel(\"AP\")\n",
    "plt.show()\n",
    "fig.savefig(\"../figures/transactions_16-12-11_AP_curves1-new.pdf\")"
   ]
  },
  {
   "cell_type": "code",
   "execution_count": 41,
   "metadata": {},
   "outputs": [
    {
     "data": {
      "image/png": "[encoded data removed]",
      "text/plain": [
       "<Figure size 432x288 with 1 Axes>"
      ]
     },
     "metadata": {
      "needs_background": "light"
     },
     "output_type": "display_data"
    }
   ],
   "source": [
    "fig = plt.figure()\n",
    "plt.plot(train_loss[:100],linewidth=2, label = 'train_loss')\n",
    "plt.plot(test_loss[:100],linewidth=2, label = 'test_loss')\n",
    "plt.legend()\n",
    "plt.xlabel(\"#epochs\")\n",
    "plt.ylabel(\"loss\")\n",
    "plt.show()\n",
    "fig.savefig(\"../figures/transactions_16-12-11_loss_curves1-new.pdf\")"
   ]
  },
  {
   "cell_type": "code",
   "execution_count": 4,
   "metadata": {},
   "outputs": [
    {
     "name": "stdout",
     "output_type": "stream",
     "text": [
      "graph loaded!!! Name: \n",
      "Type: Graph\n",
      "Number of nodes: 34822\n",
      "Number of edges: 53870\n",
      "Average degree:   3.0940\n"
     ]
    }
   ],
   "source": [
    "graph= nx.read_graphml(\"data/transactions_16-12-11.graphml\")\n",
    "graph=nx.Graph(graph)\n",
    "print(\"graph loaded!!!\", nx.info(graph))\n",
    "deg = sorted(list(dict(nx.degree(graph)).values()),reverse = True)"
   ]
  }
 ],
 "metadata": {
  "accelerator": "GPU",
  "colab": {
   "collapsed_sections": [],
   "name": "Graph Neural Networks",
   "provenance": []
  },
  "kernelspec": {
   "display_name": "my_env",
   "language": "python",
   "name": "my_env"
  },
  "language_info": {
   "codemirror_mode": {
    "name": "ipython",
    "version": 3
   },
   "file_extension": ".py",
   "mimetype": "text/x-python",
   "name": "python",
   "nbconvert_exporter": "python",
   "pygments_lexer": "ipython3",
   "version": "3.8.5"
  }
 },
 "nbformat": 4,
 "nbformat_minor": 1
}
