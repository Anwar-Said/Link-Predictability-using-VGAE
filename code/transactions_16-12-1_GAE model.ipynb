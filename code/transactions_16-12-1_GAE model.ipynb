{
 "cells": [
  {
   "cell_type": "code",
   "execution_count": 18,
   "metadata": {
    "colab": {
     "base_uri": "https://localhost:8080/",
     "height": 395
    },
    "id": "MlFlxfL5dgn2",
    "outputId": "a57ec863-efbe-400b-c3b4-5a64f0ece46c"
   },
   "outputs": [],
   "source": [
    "import torch\n",
    "import torch.nn as nn\n",
    "import torch.nn.functional as F\n",
    "import torchvision.transforms as transforms\n",
    "import sklearn.metrics as metrics\n",
    "import torch_geometric.nn as pyg_nn\n",
    "import torch_geometric.utils as pyg_utils\n",
    "from torch_geometric.utils import train_test_split_edges\n",
    "import time\n",
    "from datetime import datetime\n",
    "\n",
    "import networkx as nx\n",
    "import numpy as np\n",
    "import torch\n",
    "import torch.optim as optim\n",
    "import csv\n",
    "from torch_geometric.datasets import TUDataset\n",
    "from torch_geometric.datasets import Planetoid\n",
    "from torch_geometric.data import DataLoader\n",
    "from torch_geometric.utils import train_test_split_edges\n",
    "import torch_geometric.transforms as T\n",
    "from torch_geometric.data import InMemoryDataset\n",
    "from torch_geometric.data import Data, DataLoader\n",
    "from scipy import sparse\n",
    "from tensorboardX import SummaryWriter\n",
    "from sklearn.manifold import TSNE\n",
    "import matplotlib.pyplot as plt\n"
   ]
  },
  {
   "cell_type": "code",
   "execution_count": 19,
   "metadata": {
    "colab": {
     "base_uri": "https://localhost:8080/",
     "height": 580
    },
    "id": "phCgm5idq6TH",
    "outputId": "cfd95379-0102-440a-bd01-497470dcdb7c"
   },
   "outputs": [],
   "source": [
    "class Encoder(torch.nn.Module):\n",
    "    def __init__(self, in_channels, out_channels):\n",
    "        super(Encoder, self).__init__()\n",
    "        self.conv1 = pyg_nn.GCNConv(in_channels, 2 * out_channels, cached=True)\n",
    "        self.conv2 = pyg_nn.GCNConv(2 * out_channels, out_channels, cached=True)\n",
    "\n",
    "    def forward(self, x, edge_index):\n",
    "        x = F.relu(self.conv1(x, edge_index))\n",
    "        return self.conv2(x, edge_index)\n",
    "    \n",
    "def train(epoch,val_pos, val_neg):\n",
    "    model.train()\n",
    "    optimizer.zero_grad()\n",
    "    z = model.encode(x, train_pos_edge_index)\n",
    "    loss = model.recon_loss(z, train_pos_edge_index)\n",
    "    loss.backward()\n",
    "    optimizer.step()\n",
    "    AUC, AP = model.test(z, val_pos, val_neg)\n",
    "    return AUC,AP,loss.item()\n",
    "#     writer.add_scalar(\"loss\", loss.item(), epoch)\n",
    "    \n",
    "def test(pos_edge_index, neg_edge_index):\n",
    "    model.eval()\n",
    "    with torch.no_grad():\n",
    "        z = model.encode(x, train_pos_edge_index)\n",
    "        loss = model.recon_loss(z,pos_edge_index)\n",
    "    AUC, AP = model.test(z, pos_edge_index, neg_edge_index)\n",
    "    return AUC,AP,loss.item()\n",
    "\n"
   ]
  },
  {
   "cell_type": "code",
   "execution_count": 5,
   "metadata": {},
   "outputs": [],
   "source": [
    "class MyOwnDataset(InMemoryDataset):\n",
    "    def __init__(self, root, transform=None, pre_transform=None):\n",
    "        super(MyOwnDataset, self).__init__(root, transform, pre_transform)\n",
    "        self.data, self.slices = torch.load(self.processed_paths[0])\n",
    "\n",
    "    @property\n",
    "    def raw_file_names(self):\n",
    "        return ['some_file_1', 'some_file_2', ...]\n",
    "\n",
    "    @property\n",
    "    def processed_file_names(self):\n",
    "#         pass\n",
    "        return ['data.pt']\n",
    "\n",
    "#     def download(self):\n",
    "#         pass\n",
    "#         Download to `self.raw_dir`.\n",
    "\n",
    "    def process(self):\n",
    "        # Read data into huge `Data` list.\n",
    "        \n",
    "        graph= nx.read_graphml(\"../data/transactions_16-12-1.graphml\")\n",
    "        graph=nx.Graph(graph)\n",
    "        print(\"graph loaded!!!\", nx.info(graph))\n",
    "        features = np.load(\"../data/transactions_16-12-1.npy\", allow_pickle= True)\n",
    "        edge_features = []\n",
    "#         max_deg = sorted(list(dict(nx.degree(graph)).values()),reverse = True)[0]\n",
    "#         range_ = 100\n",
    "        X =  []\n",
    "        for n in graph.nodes():\n",
    "            f_vect = torch.zeros((100+1,),dtype = torch.float)\n",
    "            deg = nx.degree(graph, n)\n",
    "#             bin_ = int((deg/max_deg)*range_)\n",
    "            if deg>100:\n",
    "                deg = 100\n",
    "            f_vect[deg] = 1\n",
    "            X.append(f_vect)\n",
    "        X = torch.stack(X) \n",
    "        dic = features.item()\n",
    "        for k, v in dic.items():\n",
    "            t = torch.zeros(len(v),dtype = torch.float)\n",
    "            for index in range(len(v)):\n",
    "                t[index] = float(v[index])\n",
    "            edge_features.append(t)\n",
    "\n",
    "        edge_features = torch.stack(edge_features) \n",
    "        pyg_g = pyg_utils.from_networkx(graph)\n",
    "        pyg_g.x= X\n",
    "        pyg_g.edge_attr = edge_features\n",
    "        data_list = [pyg_g]\n",
    "        if self.pre_filter is not None:\n",
    "            data_list = [data for data in data_list if self.pre_filter(data)]\n",
    "        if self.pre_transform is not None:\n",
    "            data_list = [self.pre_transform(data) for data in data_list]\n",
    "        print(\"dataset: \",len(data_list))\n",
    "        data, slices = self.collate(data_list)\n",
    "        torch.save((data, slices), self.processed_paths[0])\n",
    "\n"
   ]
  },
  {
   "cell_type": "code",
   "execution_count": 6,
   "metadata": {},
   "outputs": [],
   "source": [
    "path = '../data/transactions_16-12-1/'\n",
    "# transform = T.OneHotDegree(max_degree=2)\n",
    "# dataset = MyOwnDataset(path,transform = transform)\n",
    "dataset = MyOwnDataset(path)"
   ]
  },
  {
   "cell_type": "code",
   "execution_count": 8,
   "metadata": {},
   "outputs": [
    {
     "name": "stdout",
     "output_type": "stream",
     "text": [
      "CUDA availability: False\n",
      "data loaded successfully!!\n",
      "now training the model\n",
      "Epoch: 000, AUC_train: 0.8242,AUC_test:0.8261 loss_train: 1.2697, loss_test:1.2471\n",
      "Epoch: 001, AUC_train: 0.8261,AUC_test:0.8283 loss_train: 1.2638, loss_test:1.2408\n",
      "Epoch: 002, AUC_train: 0.8283,AUC_test:0.8306 loss_train: 1.2577, loss_test:1.2346\n",
      "Epoch: 003, AUC_train: 0.8306,AUC_test:0.8324 loss_train: 1.2515, loss_test:1.2282\n",
      "Epoch: 004, AUC_train: 0.8324,AUC_test:0.8338 loss_train: 1.2452, loss_test:1.2218\n",
      "Epoch: 005, AUC_train: 0.8338,AUC_test:0.8349 loss_train: 1.2388, loss_test:1.2153\n",
      "Epoch: 006, AUC_train: 0.8349,AUC_test:0.8361 loss_train: 1.2323, loss_test:1.2089\n",
      "Epoch: 007, AUC_train: 0.8361,AUC_test:0.8372 loss_train: 1.2258, loss_test:1.2023\n",
      "Epoch: 008, AUC_train: 0.8372,AUC_test:0.8382 loss_train: 1.2190, loss_test:1.1955\n",
      "Epoch: 009, AUC_train: 0.8382,AUC_test:0.8388 loss_train: 1.2122, loss_test:1.1888\n",
      "Epoch: 010, AUC_train: 0.8388,AUC_test:0.8393 loss_train: 1.2056, loss_test:1.1817\n",
      "Epoch: 011, AUC_train: 0.8393,AUC_test:0.8396 loss_train: 1.1981, loss_test:1.1750\n",
      "Epoch: 012, AUC_train: 0.8396,AUC_test:0.8400 loss_train: 1.1909, loss_test:1.1676\n",
      "Epoch: 013, AUC_train: 0.8400,AUC_test:0.8407 loss_train: 1.1835, loss_test:1.1603\n",
      "Epoch: 014, AUC_train: 0.8407,AUC_test:0.8414 loss_train: 1.1762, loss_test:1.1529\n",
      "Epoch: 015, AUC_train: 0.8414,AUC_test:0.8423 loss_train: 1.1683, loss_test:1.1452\n",
      "Epoch: 016, AUC_train: 0.8423,AUC_test:0.8432 loss_train: 1.1608, loss_test:1.1376\n",
      "Epoch: 017, AUC_train: 0.8432,AUC_test:0.8442 loss_train: 1.1530, loss_test:1.1305\n",
      "Epoch: 018, AUC_train: 0.8442,AUC_test:0.8452 loss_train: 1.1452, loss_test:1.1226\n",
      "Epoch: 019, AUC_train: 0.8452,AUC_test:0.8465 loss_train: 1.1378, loss_test:1.1153\n",
      "Epoch: 020, AUC_train: 0.8465,AUC_test:0.8478 loss_train: 1.1304, loss_test:1.1083\n",
      "Epoch: 021, AUC_train: 0.8478,AUC_test:0.8492 loss_train: 1.1227, loss_test:1.1011\n",
      "Epoch: 022, AUC_train: 0.8492,AUC_test:0.8508 loss_train: 1.1158, loss_test:1.0952\n",
      "Epoch: 023, AUC_train: 0.8508,AUC_test:0.8525 loss_train: 1.1089, loss_test:1.0875\n",
      "Epoch: 024, AUC_train: 0.8525,AUC_test:0.8542 loss_train: 1.1021, loss_test:1.0813\n",
      "Epoch: 025, AUC_train: 0.8542,AUC_test:0.8560 loss_train: 1.0952, loss_test:1.0751\n",
      "Epoch: 026, AUC_train: 0.8560,AUC_test:0.8579 loss_train: 1.0892, loss_test:1.0691\n",
      "Epoch: 027, AUC_train: 0.8579,AUC_test:0.8598 loss_train: 1.0830, loss_test:1.0637\n",
      "Epoch: 028, AUC_train: 0.8598,AUC_test:0.8619 loss_train: 1.0772, loss_test:1.0582\n",
      "Epoch: 029, AUC_train: 0.8619,AUC_test:0.8639 loss_train: 1.0718, loss_test:1.0532\n",
      "Epoch: 030, AUC_train: 0.8639,AUC_test:0.8661 loss_train: 1.0663, loss_test:1.0497\n",
      "Epoch: 031, AUC_train: 0.8661,AUC_test:0.8683 loss_train: 1.0617, loss_test:1.0444\n",
      "Epoch: 032, AUC_train: 0.8683,AUC_test:0.8706 loss_train: 1.0570, loss_test:1.0405\n",
      "Epoch: 033, AUC_train: 0.8706,AUC_test:0.8729 loss_train: 1.0524, loss_test:1.0365\n",
      "Epoch: 034, AUC_train: 0.8729,AUC_test:0.8754 loss_train: 1.0482, loss_test:1.0335\n",
      "Epoch: 035, AUC_train: 0.8754,AUC_test:0.8780 loss_train: 1.0442, loss_test:1.0301\n",
      "Epoch: 036, AUC_train: 0.8780,AUC_test:0.8806 loss_train: 1.0408, loss_test:1.0269\n",
      "Epoch: 037, AUC_train: 0.8806,AUC_test:0.8832 loss_train: 1.0373, loss_test:1.0241\n",
      "Epoch: 038, AUC_train: 0.8832,AUC_test:0.8860 loss_train: 1.0345, loss_test:1.0222\n",
      "Epoch: 039, AUC_train: 0.8860,AUC_test:0.8887 loss_train: 1.0317, loss_test:1.0194\n",
      "Epoch: 040, AUC_train: 0.8887,AUC_test:0.8915 loss_train: 1.0293, loss_test:1.0167\n",
      "Epoch: 041, AUC_train: 0.8915,AUC_test:0.8942 loss_train: 1.0263, loss_test:1.0162\n",
      "Epoch: 042, AUC_train: 0.8942,AUC_test:0.8970 loss_train: 1.0242, loss_test:1.0131\n",
      "Epoch: 043, AUC_train: 0.8970,AUC_test:0.8998 loss_train: 1.0217, loss_test:1.0110\n",
      "Epoch: 044, AUC_train: 0.8998,AUC_test:0.9027 loss_train: 1.0194, loss_test:1.0092\n",
      "Epoch: 045, AUC_train: 0.9027,AUC_test:0.9055 loss_train: 1.0178, loss_test:1.0079\n",
      "Epoch: 046, AUC_train: 0.9055,AUC_test:0.9083 loss_train: 1.0158, loss_test:1.0063\n",
      "Epoch: 047, AUC_train: 0.9083,AUC_test:0.9112 loss_train: 1.0140, loss_test:1.0050\n",
      "Epoch: 048, AUC_train: 0.9112,AUC_test:0.9140 loss_train: 1.0114, loss_test:1.0019\n",
      "Epoch: 049, AUC_train: 0.9140,AUC_test:0.9168 loss_train: 1.0099, loss_test:1.0018\n",
      "Epoch: 050, AUC_train: 0.9168,AUC_test:0.9196 loss_train: 1.0086, loss_test:1.0003\n",
      "Epoch: 051, AUC_train: 0.9196,AUC_test:0.9222 loss_train: 1.0063, loss_test:0.9985\n",
      "Epoch: 052, AUC_train: 0.9222,AUC_test:0.9249 loss_train: 1.0044, loss_test:0.9975\n",
      "Epoch: 053, AUC_train: 0.9249,AUC_test:0.9274 loss_train: 1.0018, loss_test:0.9956\n",
      "Epoch: 054, AUC_train: 0.9274,AUC_test:0.9299 loss_train: 1.0006, loss_test:0.9933\n",
      "Epoch: 055, AUC_train: 0.9299,AUC_test:0.9324 loss_train: 0.9991, loss_test:0.9920\n",
      "Epoch: 056, AUC_train: 0.9324,AUC_test:0.9346 loss_train: 0.9977, loss_test:0.9915\n",
      "Epoch: 057, AUC_train: 0.9346,AUC_test:0.9369 loss_train: 0.9959, loss_test:0.9895\n",
      "Epoch: 058, AUC_train: 0.9369,AUC_test:0.9391 loss_train: 0.9933, loss_test:0.9876\n",
      "Epoch: 059, AUC_train: 0.9391,AUC_test:0.9411 loss_train: 0.9917, loss_test:0.9864\n",
      "Epoch: 060, AUC_train: 0.9411,AUC_test:0.9430 loss_train: 0.9901, loss_test:0.9851\n",
      "Epoch: 061, AUC_train: 0.9430,AUC_test:0.9447 loss_train: 0.9886, loss_test:0.9831\n",
      "Epoch: 062, AUC_train: 0.9447,AUC_test:0.9463 loss_train: 0.9868, loss_test:0.9817\n",
      "Epoch: 063, AUC_train: 0.9463,AUC_test:0.9478 loss_train: 0.9857, loss_test:0.9801\n",
      "Epoch: 064, AUC_train: 0.9478,AUC_test:0.9491 loss_train: 0.9835, loss_test:0.9782\n",
      "Epoch: 065, AUC_train: 0.9491,AUC_test:0.9503 loss_train: 0.9820, loss_test:0.9777\n",
      "Epoch: 066, AUC_train: 0.9503,AUC_test:0.9513 loss_train: 0.9803, loss_test:0.9764\n",
      "Epoch: 067, AUC_train: 0.9513,AUC_test:0.9523 loss_train: 0.9790, loss_test:0.9746\n",
      "Epoch: 068, AUC_train: 0.9523,AUC_test:0.9531 loss_train: 0.9774, loss_test:0.9729\n",
      "Epoch: 069, AUC_train: 0.9531,AUC_test:0.9539 loss_train: 0.9762, loss_test:0.9717\n",
      "Epoch: 070, AUC_train: 0.9539,AUC_test:0.9545 loss_train: 0.9743, loss_test:0.9720\n",
      "Epoch: 071, AUC_train: 0.9545,AUC_test:0.9551 loss_train: 0.9727, loss_test:0.9700\n",
      "Epoch: 072, AUC_train: 0.9551,AUC_test:0.9557 loss_train: 0.9707, loss_test:0.9686\n",
      "Epoch: 073, AUC_train: 0.9557,AUC_test:0.9560 loss_train: 0.9695, loss_test:0.9676\n",
      "Epoch: 074, AUC_train: 0.9560,AUC_test:0.9564 loss_train: 0.9684, loss_test:0.9668\n",
      "Epoch: 075, AUC_train: 0.9564,AUC_test:0.9568 loss_train: 0.9664, loss_test:0.9648\n",
      "Epoch: 076, AUC_train: 0.9568,AUC_test:0.9571 loss_train: 0.9655, loss_test:0.9639\n",
      "Epoch: 077, AUC_train: 0.9571,AUC_test:0.9573 loss_train: 0.9631, loss_test:0.9638\n",
      "Epoch: 078, AUC_train: 0.9573,AUC_test:0.9575 loss_train: 0.9630, loss_test:0.9623\n",
      "Epoch: 079, AUC_train: 0.9575,AUC_test:0.9577 loss_train: 0.9614, loss_test:0.9621\n",
      "Epoch: 080, AUC_train: 0.9577,AUC_test:0.9579 loss_train: 0.9592, loss_test:0.9605\n",
      "Epoch: 081, AUC_train: 0.9579,AUC_test:0.9580 loss_train: 0.9586, loss_test:0.9598\n",
      "Epoch: 082, AUC_train: 0.9580,AUC_test:0.9581 loss_train: 0.9570, loss_test:0.9592\n",
      "Epoch: 083, AUC_train: 0.9581,AUC_test:0.9582 loss_train: 0.9567, loss_test:0.9585\n",
      "Epoch: 084, AUC_train: 0.9582,AUC_test:0.9583 loss_train: 0.9553, loss_test:0.9581\n",
      "Epoch: 085, AUC_train: 0.9583,AUC_test:0.9583 loss_train: 0.9536, loss_test:0.9584\n",
      "Epoch: 086, AUC_train: 0.9583,AUC_test:0.9584 loss_train: 0.9535, loss_test:0.9564\n",
      "Epoch: 087, AUC_train: 0.9584,AUC_test:0.9584 loss_train: 0.9521, loss_test:0.9562\n",
      "Epoch: 088, AUC_train: 0.9584,AUC_test:0.9585 loss_train: 0.9508, loss_test:0.9557\n",
      "Epoch: 089, AUC_train: 0.9585,AUC_test:0.9585 loss_train: 0.9487, loss_test:0.9541\n",
      "Epoch: 090, AUC_train: 0.9585,AUC_test:0.9585 loss_train: 0.9471, loss_test:0.9528\n",
      "Epoch: 091, AUC_train: 0.9585,AUC_test:0.9585 loss_train: 0.9470, loss_test:0.9536\n",
      "Epoch: 092, AUC_train: 0.9585,AUC_test:0.9584 loss_train: 0.9449, loss_test:0.9536\n",
      "Epoch: 093, AUC_train: 0.9584,AUC_test:0.9583 loss_train: 0.9446, loss_test:0.9518\n",
      "Epoch: 094, AUC_train: 0.9583,AUC_test:0.9581 loss_train: 0.9425, loss_test:0.9533\n",
      "Epoch: 095, AUC_train: 0.9581,AUC_test:0.9580 loss_train: 0.9426, loss_test:0.9514\n",
      "Epoch: 096, AUC_train: 0.9580,AUC_test:0.9578 loss_train: 0.9415, loss_test:0.9529\n",
      "Epoch: 097, AUC_train: 0.9578,AUC_test:0.9576 loss_train: 0.9397, loss_test:0.9508\n"
     ]
    },
    {
     "name": "stdout",
     "output_type": "stream",
     "text": [
      "Epoch: 098, AUC_train: 0.9576,AUC_test:0.9573 loss_train: 0.9388, loss_test:0.9511\n",
      "Epoch: 099, AUC_train: 0.9573,AUC_test:0.9570 loss_train: 0.9371, loss_test:0.9498\n"
     ]
    }
   ],
   "source": [
    "# writer = SummaryWriter(\"./log/\" + datetime.now().strftime(\"%Y%m%d-%H%M%S\"))\n",
    "\n",
    "# dataset = Planetoid(root='/tmp/cora', name='cora')\n",
    "# task = 'node'\n",
    "\n",
    "# model = train(dataset, task, writer)\n",
    "\n",
    "data = dataset[0]\n",
    "channels = 8\n",
    "dev = torch.device('cuda' if torch.cuda.is_available() else 'cpu')\n",
    "print('CUDA availability:', torch.cuda.is_available())\n",
    "\n",
    "# encoder: written by us; decoder: default (inner product)\n",
    "model = pyg_nn.GAE(Encoder(dataset.num_features, channels)).to(dev)\n",
    "labels = data.y\n",
    "print(\"data loaded successfully!!\")\n",
    "data.train_mask = data.val_mask = data.test_mask = data.y = None\n",
    "data = train_test_split_edges(data,val_ratio=0.0, test_ratio=0.33)\n",
    "x, train_pos_edge_index = data.x.to(dev), data.train_pos_edge_index.to(dev)\n",
    "optimizer = torch.optim.Adam(model.parameters(), lr=0.001)\n",
    "print(\"now training the model\")\n",
    "AUC_, AP_,AUC_train, AP_train,train_loss,test_loss = [],[],[],[],[],[]\n",
    "for epoch in range(0, 100):\n",
    "    AUC_tr, AP_tr,tr_loss = train(epoch,data.test_pos_edge_index, data.test_neg_edge_index)\n",
    "    AUC_train.append(AUC_tr)\n",
    "    AP_train.append(AP_tr)\n",
    "    auc, ap,test_l= test(data.test_pos_edge_index, data.test_neg_edge_index)\n",
    "    AUC_.append(auc)\n",
    "    AP_.append(ap)\n",
    "    train_loss.append(tr_loss)\n",
    "    test_loss.append(test_l)\n",
    "#     writer.add_scalar(\"AUC\", auc, epoch)\n",
    "#     writer.add_scalar(\"AP\", ap, epoch)\n",
    "#     if epoch % 10 == 0:\n",
    "    print('Epoch: {:03d}, AUC_train: {:.4f},AUC_test:{:.4f} loss_train: {:.4f}, loss_test:{:.4f}'.format(epoch, AUC_tr, auc,tr_loss, test_l))"
   ]
  },
  {
   "cell_type": "code",
   "execution_count": 7,
   "metadata": {},
   "outputs": [
    {
     "data": {
      "text/plain": [
       "Data(edge_attr=[53979, 2], test_neg_edge_index=[2, 5384], test_pos_edge_index=[2, 5384], train_neg_adj_mask=[34822, 34822], train_pos_edge_index=[2, 91546], val_neg_edge_index=[2, 2692], val_pos_edge_index=[2, 2692], x=[34822, 101])"
      ]
     },
     "execution_count": 7,
     "metadata": {},
     "output_type": "execute_result"
    }
   ],
   "source": [
    "data"
   ]
  },
  {
   "cell_type": "code",
   "execution_count": 17,
   "metadata": {},
   "outputs": [],
   "source": [
    "file = open(\"results_transactions_16-12-1.csv\",'a',newline = '')\n",
    "res_writer = csv.writer(file, delimiter=',',quotechar='|', quoting=csv.QUOTE_MINIMAL)\n",
    "res_writer.writerow([\"sequence => auc_train\",\"auc_test\",\"ap_train\",\"ap_test\",\"train loss\",\"test loss\"])\n",
    "res_writer.writerow(AUC_train)\n",
    "res_writer.writerow(AUC_)\n",
    "res_writer.writerow(AP_train)\n",
    "res_writer.writerow(AP_)\n",
    "res_writer.writerow(train_loss)\n",
    "res_writer.writerow(test_loss)\n",
    "file.flush()\n",
    "file.close()"
   ]
  },
  {
   "cell_type": "code",
   "execution_count": 12,
   "metadata": {},
   "outputs": [
    {
     "data": {
      "image/png": "[encoded data removed]",
      "text/plain": [
       "<Figure size 432x288 with 1 Axes>"
      ]
     },
     "metadata": {
      "needs_background": "light"
     },
     "output_type": "display_data"
    }
   ],
   "source": [
    "fig = plt.figure()\n",
    "\n",
    "plt.plot(AUC_train,linewidth=2, label = 'AUC_train')\n",
    "plt.plot(AUC_,linewidth=2, label = 'AUC_test')\n",
    "plt.legend()\n",
    "plt.xlabel(\"#epochs\")\n",
    "plt.ylabel(\"AUC\")\n",
    "plt.show()\n",
    "fig.savefig(\"../figures/transactions_16-12-11_AUC_curves1.pdf\")"
   ]
  },
  {
   "cell_type": "code",
   "execution_count": 14,
   "metadata": {},
   "outputs": [
    {
     "data": {
      "image/png": "[encoded data removed]",
      "text/plain": [
       "<Figure size 432x288 with 1 Axes>"
      ]
     },
     "metadata": {
      "needs_background": "light"
     },
     "output_type": "display_data"
    }
   ],
   "source": [
    "fig = plt.figure()\n",
    "\n",
    "plt.plot(AP_train,linewidth=2, label = 'AP_train')\n",
    "plt.plot(AP_,linewidth=2, label = 'AP_test')\n",
    "plt.legend()\n",
    "plt.xlabel(\"#epochs\")\n",
    "plt.ylabel(\"AP\")\n",
    "plt.show()\n",
    "fig.savefig(\"../figures/transactions_16-12-11_AP_curves1.pdf\")"
   ]
  },
  {
   "cell_type": "code",
   "execution_count": 16,
   "metadata": {},
   "outputs": [
    {
     "data": {
      "image/png": "[encoded data removed]",
      "text/plain": [
       "<Figure size 432x288 with 1 Axes>"
      ]
     },
     "metadata": {
      "needs_background": "light"
     },
     "output_type": "display_data"
    }
   ],
   "source": [
    "fig = plt.figure()\n",
    "plt.plot(train_loss,linewidth=2, label = 'train_loss')\n",
    "plt.plot(test_loss,linewidth=2, label = 'test_loss')\n",
    "plt.legend()\n",
    "plt.xlabel(\"#epochs\")\n",
    "plt.ylabel(\"loss\")\n",
    "plt.show()\n",
    "fig.savefig(\"../figures/transactions_16-12-11_loss_curves1.pdf\")"
   ]
  },
  {
   "cell_type": "code",
   "execution_count": 4,
   "metadata": {},
   "outputs": [
    {
     "name": "stdout",
     "output_type": "stream",
     "text": [
      "graph loaded!!! Name: \n",
      "Type: Graph\n",
      "Number of nodes: 34822\n",
      "Number of edges: 53870\n",
      "Average degree:   3.0940\n"
     ]
    }
   ],
   "source": [
    "graph= nx.read_graphml(\"data/transactions_16-12-11.graphml\")\n",
    "graph=nx.Graph(graph)\n",
    "print(\"graph loaded!!!\", nx.info(graph))\n",
    "deg = sorted(list(dict(nx.degree(graph)).values()),reverse = True)"
   ]
  }
 ],
 "metadata": {
  "accelerator": "GPU",
  "colab": {
   "collapsed_sections": [],
   "name": "Graph Neural Networks",
   "provenance": []
  },
  "kernelspec": {
   "display_name": "my_env",
   "language": "python",
   "name": "my_env"
  },
  "language_info": {
   "codemirror_mode": {
    "name": "ipython",
    "version": 3
   },
   "file_extension": ".py",
   "mimetype": "text/x-python",
   "name": "python",
   "nbconvert_exporter": "python",
   "pygments_lexer": "ipython3",
   "version": "3.8.5"
  }
 },
 "nbformat": 4,
 "nbformat_minor": 1
}
