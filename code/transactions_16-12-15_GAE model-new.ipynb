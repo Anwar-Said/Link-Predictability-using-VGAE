{
 "cells": [
  {
   "cell_type": "code",
   "execution_count": 1,
   "metadata": {
    "colab": {
     "base_uri": "https://localhost:8080/",
     "height": 395
    },
    "id": "MlFlxfL5dgn2",
    "outputId": "a57ec863-efbe-400b-c3b4-5a64f0ece46c"
   },
   "outputs": [],
   "source": [
    "import torch\n",
    "import torch.nn as nn\n",
    "import torch.nn.functional as F\n",
    "import torchvision.transforms as transforms\n",
    "import sklearn.metrics as metrics\n",
    "import torch_geometric.nn as pyg_nn\n",
    "import torch_geometric.utils as pyg_utils\n",
    "from torch_geometric.utils import train_test_split_edges\n",
    "import time\n",
    "from datetime import datetime\n",
    "\n",
    "import networkx as nx\n",
    "import numpy as np\n",
    "import torch\n",
    "import torch.optim as optim\n",
    "import csv\n",
    "from torch_geometric.datasets import TUDataset\n",
    "from torch_geometric.datasets import Planetoid\n",
    "from torch_geometric.data import DataLoader\n",
    "from torch_geometric.utils import train_test_split_edges\n",
    "import torch_geometric.transforms as T\n",
    "from torch_geometric.data import InMemoryDataset\n",
    "from torch_geometric.data import Data, DataLoader\n",
    "from scipy import sparse\n",
    "from tensorboardX import SummaryWriter\n",
    "from sklearn.manifold import TSNE\n",
    "import matplotlib.pyplot as plt\n"
   ]
  },
  {
   "cell_type": "code",
   "execution_count": 2,
   "metadata": {
    "colab": {
     "base_uri": "https://localhost:8080/",
     "height": 580
    },
    "id": "phCgm5idq6TH",
    "outputId": "cfd95379-0102-440a-bd01-497470dcdb7c"
   },
   "outputs": [],
   "source": [
    "class Encoder(torch.nn.Module):\n",
    "    def __init__(self, in_channels, out_channels):\n",
    "        super(Encoder, self).__init__()\n",
    "#         self.conv1 = pyg_nn.GCNConv(in_channels, 2 * out_channels, cached=True)\n",
    "#         self.conv2 = pyg_nn.GCNConv(2 * out_channels, out_channels, cached=True)\n",
    "        self.conv1 = pyg_nn.GraphConv(in_channels, 2 * out_channels)\n",
    "        self.conv2 = pyg_nn.GraphConv(2 * out_channels, out_channels)\n",
    "\n",
    "    def forward(self, x, edge_index):\n",
    "        x = F.relu(self.conv1(x, edge_index))\n",
    "        return self.conv2(x, edge_index)\n",
    "    \n",
    "def train(epoch,val_pos, val_neg):\n",
    "    model.train()\n",
    "    optimizer.zero_grad()\n",
    "    z = model.encode(x, train_pos_edge_index)\n",
    "    loss = model.recon_loss(z, train_pos_edge_index)\n",
    "    loss.backward()\n",
    "    optimizer.step()\n",
    "    AUC, AP = model.test(z, val_pos, val_neg)\n",
    "    return AUC,AP,loss.item()\n",
    "#     writer.add_scalar(\"loss\", loss.item(), epoch)\n",
    "    \n",
    "def test(pos_edge_index, neg_edge_index):\n",
    "    model.eval()\n",
    "    with torch.no_grad():\n",
    "        z = model.encode(x, train_pos_edge_index)\n",
    "        loss = model.recon_loss(z,pos_edge_index)\n",
    "    AUC, AP = model.test(z, pos_edge_index, neg_edge_index)\n",
    "    return AUC,AP,loss.item()\n",
    "\n"
   ]
  },
  {
   "cell_type": "code",
   "execution_count": 3,
   "metadata": {},
   "outputs": [],
   "source": [
    "class MyOwnDataset(InMemoryDataset):\n",
    "    def __init__(self, root, transform=None, pre_transform=None):\n",
    "        super(MyOwnDataset, self).__init__(root, transform, pre_transform)\n",
    "        self.data, self.slices = torch.load(self.processed_paths[0])\n",
    "\n",
    "    @property\n",
    "    def raw_file_names(self):\n",
    "        return ['some_file_1', 'some_file_2', ...]\n",
    "\n",
    "    @property\n",
    "    def processed_file_names(self):\n",
    "#         pass\n",
    "        return ['data.pt']\n",
    "\n",
    "#     def download(self):\n",
    "#         pass\n",
    "#         Download to `self.raw_dir`.\n",
    "\n",
    "    def process(self):\n",
    "        # Read data into huge `Data` list.\n",
    "        graph= nx.read_graphml(\"../data/transactions_16-12-15.graphml\")\n",
    "        graph=nx.Graph(graph)\n",
    "        print(\"graph loaded!!!\", nx.info(graph))\n",
    "        features = np.load(\"../data/transactions_16-12-15.npy\", allow_pickle= True)\n",
    "        edge_features = []\n",
    "#         max_deg = sorted(list(dict(nx.degree(graph)).values()),reverse = True)[0]\n",
    "#         range_ = 100\n",
    "        X =  []\n",
    "        for n in graph.nodes():\n",
    "            f_vect = torch.zeros((100+1,),dtype = torch.float)\n",
    "            deg = nx.degree(graph, n)\n",
    "#             bin_ = int((deg/max_deg)*range_)\n",
    "            if deg>100:\n",
    "                deg = 100\n",
    "            f_vect[deg] = 1\n",
    "            X.append(f_vect)\n",
    "        X = torch.stack(X) \n",
    "#         dic = features.item()\n",
    "#         for k, v in dic.items():\n",
    "#             t = torch.zeros(len(v),dtype = torch.float)\n",
    "#             for index in range(len(v)):\n",
    "#                 t[index] = float(v[index])\n",
    "#             edge_features.append(t)\n",
    "\n",
    "#         edge_features = torch.stack(edge_features) \n",
    "        pyg_g = pyg_utils.from_networkx(graph)\n",
    "        pyg_g.x= X\n",
    "#         pyg_g.edge_attr = edge_features\n",
    "        data_list = [pyg_g]\n",
    "        if self.pre_filter is not None:\n",
    "            data_list = [data for data in data_list if self.pre_filter(data)]\n",
    "        if self.pre_transform is not None:\n",
    "            data_list = [self.pre_transform(data) for data in data_list]\n",
    "        print(\"dataset: \",len(data_list))\n",
    "        data, slices = self.collate(data_list)\n",
    "        torch.save((data, slices), self.processed_paths[0])\n",
    "\n"
   ]
  },
  {
   "cell_type": "code",
   "execution_count": 4,
   "metadata": {},
   "outputs": [
    {
     "name": "stdout",
     "output_type": "stream",
     "text": [
      "Processing...\n",
      "graph loaded!!! Name: \n",
      "Type: Graph\n",
      "Number of nodes: 37175\n",
      "Number of edges: 56987\n",
      "Average degree:   3.0659\n",
      "dataset:  1\n",
      "Done!\n"
     ]
    }
   ],
   "source": [
    "path = '../data/transactions_16-12-15/'\n",
    "# transform = T.OneHotDegree(max_degree=2)\n",
    "# dataset = MyOwnDataset(path,transform = transform)\n",
    "dataset = MyOwnDataset(path)"
   ]
  },
  {
   "cell_type": "code",
   "execution_count": 5,
   "metadata": {},
   "outputs": [
    {
     "name": "stdout",
     "output_type": "stream",
     "text": [
      "CUDA availability: False\n",
      "data loaded successfully!!\n",
      "Data(test_neg_edge_index=[2, 5696], test_pos_edge_index=[2, 5696], train_neg_adj_mask=[37175, 37175], train_pos_edge_index=[2, 102532], val_neg_edge_index=[2, 0], val_pos_edge_index=[2, 0], x=[37175, 101])\n"
     ]
    }
   ],
   "source": [
    "# writer = SummaryWriter(\"./log/\" + datetime.now().strftime(\"%Y%m%d-%H%M%S\"))\n",
    "\n",
    "# dataset = Planetoid(root='/tmp/cora', name='cora')\n",
    "# task = 'node'\n",
    "\n",
    "# model = train(dataset, task, writer)\n",
    "\n",
    "data = dataset[0]\n",
    "channels = 8\n",
    "dev = torch.device('cuda' if torch.cuda.is_available() else 'cpu')\n",
    "print('CUDA availability:', torch.cuda.is_available())\n",
    "\n",
    "# encoder: written by us; decoder: default (inner product)\n",
    "\n",
    "print(\"data loaded successfully!!\")\n",
    "data.train_mask = data.val_mask = data.test_mask = data.y = None\n",
    "data = train_test_split_edges(data,val_ratio=0.0, test_ratio=0.1)\n",
    "print(data)\n",
    "x, train_pos_edge_index = data.x.to(dev), data.train_pos_edge_index.to(dev)\n"
   ]
  },
  {
   "cell_type": "code",
   "execution_count": 6,
   "metadata": {},
   "outputs": [
    {
     "name": "stdout",
     "output_type": "stream",
     "text": [
      "now training the model\n",
      "Epoch: 000, AUC_train: 0.4895,AUC_test:0.4627 loss_train: 29.0987, loss_test:26.5707\n",
      "Epoch: 001, AUC_train: 0.4627,AUC_test:0.4376 loss_train: 26.4207, loss_test:25.2778\n",
      "Epoch: 002, AUC_train: 0.4376,AUC_test:0.4144 loss_train: 25.3043, loss_test:26.4616\n",
      "Epoch: 003, AUC_train: 0.4144,AUC_test:0.4010 loss_train: 24.4348, loss_test:28.8135\n",
      "Epoch: 004, AUC_train: 0.4010,AUC_test:0.3917 loss_train: 24.3494, loss_test:30.9319\n",
      "Epoch: 005, AUC_train: 0.3917,AUC_test:0.3889 loss_train: 24.2373, loss_test:31.1085\n",
      "Epoch: 006, AUC_train: 0.3889,AUC_test:0.3886 loss_train: 24.1054, loss_test:31.1919\n",
      "Epoch: 007, AUC_train: 0.3886,AUC_test:0.3883 loss_train: 23.9061, loss_test:30.8935\n",
      "Epoch: 008, AUC_train: 0.3883,AUC_test:0.3877 loss_train: 23.6641, loss_test:30.4687\n",
      "Epoch: 009, AUC_train: 0.3877,AUC_test:0.3835 loss_train: 23.8676, loss_test:31.0255\n",
      "Epoch: 010, AUC_train: 0.3835,AUC_test:0.3792 loss_train: 23.2046, loss_test:31.1332\n",
      "Epoch: 011, AUC_train: 0.3792,AUC_test:0.3772 loss_train: 23.2104, loss_test:31.2183\n",
      "Epoch: 012, AUC_train: 0.3772,AUC_test:0.3763 loss_train: 23.1275, loss_test:31.0767\n",
      "Epoch: 013, AUC_train: 0.3763,AUC_test:0.3753 loss_train: 22.9107, loss_test:31.1229\n",
      "Epoch: 014, AUC_train: 0.3753,AUC_test:0.3729 loss_train: 22.8389, loss_test:30.8144\n",
      "Epoch: 015, AUC_train: 0.3729,AUC_test:0.3737 loss_train: 22.6300, loss_test:30.4516\n",
      "Epoch: 016, AUC_train: 0.3737,AUC_test:0.3903 loss_train: 22.2770, loss_test:28.6302\n",
      "Epoch: 017, AUC_train: 0.3903,AUC_test:0.3952 loss_train: 20.6256, loss_test:27.6609\n",
      "Epoch: 018, AUC_train: 0.3952,AUC_test:0.3993 loss_train: 20.1421, loss_test:27.0665\n",
      "Epoch: 019, AUC_train: 0.3993,AUC_test:0.4058 loss_train: 19.7542, loss_test:26.3078\n",
      "Epoch: 020, AUC_train: 0.4058,AUC_test:0.4427 loss_train: 19.1448, loss_test:23.3774\n",
      "Epoch: 021, AUC_train: 0.4427,AUC_test:0.4512 loss_train: 16.3597, loss_test:21.9728\n",
      "Epoch: 022, AUC_train: 0.4512,AUC_test:0.4986 loss_train: 15.2734, loss_test:19.0448\n",
      "Epoch: 023, AUC_train: 0.4986,AUC_test:0.5624 loss_train: 12.6355, loss_test:14.9233\n",
      "Epoch: 024, AUC_train: 0.5624,AUC_test:0.6625 loss_train: 9.4422, loss_test:10.7250\n",
      "Epoch: 025, AUC_train: 0.6625,AUC_test:0.7784 loss_train: 7.8624, loss_test:6.7981\n",
      "Epoch: 026, AUC_train: 0.7784,AUC_test:0.8423 loss_train: 5.8969, loss_test:4.8343\n",
      "Epoch: 027, AUC_train: 0.8423,AUC_test:0.8927 loss_train: 4.6284, loss_test:4.0772\n",
      "Epoch: 028, AUC_train: 0.8927,AUC_test:0.8979 loss_train: 4.0498, loss_test:3.9515\n",
      "Epoch: 029, AUC_train: 0.8979,AUC_test:0.8940 loss_train: 3.9420, loss_test:4.1405\n",
      "Epoch: 030, AUC_train: 0.8940,AUC_test:0.9116 loss_train: 4.1295, loss_test:3.2696\n",
      "Epoch: 031, AUC_train: 0.9116,AUC_test:0.8179 loss_train: 3.2662, loss_test:5.9768\n",
      "Epoch: 032, AUC_train: 0.8179,AUC_test:0.9199 loss_train: 6.9155, loss_test:3.1052\n",
      "Epoch: 033, AUC_train: 0.9199,AUC_test:0.8975 loss_train: 3.1281, loss_test:3.5446\n",
      "Epoch: 034, AUC_train: 0.8975,AUC_test:0.8964 loss_train: 3.5650, loss_test:3.7733\n",
      "Epoch: 035, AUC_train: 0.8964,AUC_test:0.9009 loss_train: 3.8031, loss_test:3.8495\n",
      "Epoch: 036, AUC_train: 0.9009,AUC_test:0.9004 loss_train: 3.8431, loss_test:3.8711\n",
      "Epoch: 037, AUC_train: 0.9004,AUC_test:0.8984 loss_train: 3.7994, loss_test:3.8265\n",
      "Epoch: 038, AUC_train: 0.8984,AUC_test:0.8970 loss_train: 3.7580, loss_test:3.8930\n",
      "Epoch: 039, AUC_train: 0.8970,AUC_test:0.8376 loss_train: 3.7741, loss_test:4.2280\n",
      "Epoch: 040, AUC_train: 0.8376,AUC_test:0.7872 loss_train: 3.7451, loss_test:5.7336\n",
      "Epoch: 041, AUC_train: 0.7872,AUC_test:0.7678 loss_train: 3.7551, loss_test:6.3496\n",
      "Epoch: 042, AUC_train: 0.7678,AUC_test:0.7588 loss_train: 3.8833, loss_test:6.6549\n",
      "Epoch: 043, AUC_train: 0.7588,AUC_test:0.7667 loss_train: 3.9979, loss_test:6.4610\n",
      "Epoch: 044, AUC_train: 0.7667,AUC_test:0.7802 loss_train: 3.8929, loss_test:6.1349\n",
      "Epoch: 045, AUC_train: 0.7802,AUC_test:0.8010 loss_train: 3.8787, loss_test:5.4188\n",
      "Epoch: 046, AUC_train: 0.8010,AUC_test:0.8331 loss_train: 3.8691, loss_test:4.3650\n",
      "Epoch: 047, AUC_train: 0.8331,AUC_test:0.8927 loss_train: 3.8686, loss_test:4.0495\n",
      "Epoch: 048, AUC_train: 0.8927,AUC_test:0.8974 loss_train: 3.8614, loss_test:4.1269\n",
      "Epoch: 049, AUC_train: 0.8974,AUC_test:0.8989 loss_train: 3.8155, loss_test:4.0553\n",
      "Epoch: 050, AUC_train: 0.8989,AUC_test:0.9007 loss_train: 3.8117, loss_test:4.1035\n",
      "Epoch: 051, AUC_train: 0.9007,AUC_test:0.9019 loss_train: 3.8623, loss_test:3.9970\n",
      "Epoch: 052, AUC_train: 0.9019,AUC_test:0.9030 loss_train: 3.8172, loss_test:3.9307\n",
      "Epoch: 053, AUC_train: 0.9030,AUC_test:0.9034 loss_train: 3.8273, loss_test:3.9867\n",
      "Epoch: 054, AUC_train: 0.9034,AUC_test:0.9035 loss_train: 3.8286, loss_test:4.0475\n",
      "Epoch: 055, AUC_train: 0.9035,AUC_test:0.9038 loss_train: 3.8378, loss_test:3.9782\n",
      "Epoch: 056, AUC_train: 0.9038,AUC_test:0.9037 loss_train: 3.7885, loss_test:3.9556\n",
      "Epoch: 057, AUC_train: 0.9037,AUC_test:0.9037 loss_train: 3.8305, loss_test:4.0251\n",
      "Epoch: 058, AUC_train: 0.9037,AUC_test:0.9039 loss_train: 3.8027, loss_test:4.0328\n",
      "Epoch: 059, AUC_train: 0.9039,AUC_test:0.9042 loss_train: 3.7793, loss_test:4.0432\n",
      "Epoch: 060, AUC_train: 0.9042,AUC_test:0.9043 loss_train: 3.7577, loss_test:3.9477\n",
      "Epoch: 061, AUC_train: 0.9043,AUC_test:0.9037 loss_train: 3.7422, loss_test:3.9788\n",
      "Epoch: 062, AUC_train: 0.9037,AUC_test:0.9038 loss_train: 3.7500, loss_test:3.9281\n",
      "Epoch: 063, AUC_train: 0.9038,AUC_test:0.9044 loss_train: 3.7061, loss_test:3.9529\n",
      "Epoch: 064, AUC_train: 0.9044,AUC_test:0.9042 loss_train: 3.6849, loss_test:3.8957\n",
      "Epoch: 065, AUC_train: 0.9042,AUC_test:0.9044 loss_train: 3.7038, loss_test:3.8366\n",
      "Epoch: 066, AUC_train: 0.9044,AUC_test:0.9053 loss_train: 3.6586, loss_test:3.8802\n",
      "Epoch: 067, AUC_train: 0.9053,AUC_test:0.9057 loss_train: 3.6402, loss_test:3.7188\n",
      "Epoch: 068, AUC_train: 0.9057,AUC_test:0.9062 loss_train: 3.6078, loss_test:3.7551\n",
      "Epoch: 069, AUC_train: 0.9062,AUC_test:0.9071 loss_train: 3.5561, loss_test:3.7132\n",
      "Epoch: 070, AUC_train: 0.9071,AUC_test:0.9079 loss_train: 3.5562, loss_test:3.6125\n",
      "Epoch: 071, AUC_train: 0.9079,AUC_test:0.9083 loss_train: 3.4912, loss_test:3.6827\n",
      "Epoch: 072, AUC_train: 0.9083,AUC_test:0.9087 loss_train: 3.4086, loss_test:3.6175\n",
      "Epoch: 073, AUC_train: 0.9087,AUC_test:0.9091 loss_train: 3.4186, loss_test:3.5462\n",
      "Epoch: 074, AUC_train: 0.9091,AUC_test:0.9094 loss_train: 3.3886, loss_test:3.5096\n",
      "Epoch: 075, AUC_train: 0.9094,AUC_test:0.9092 loss_train: 3.3480, loss_test:3.4914\n",
      "Epoch: 076, AUC_train: 0.9092,AUC_test:0.9091 loss_train: 3.3724, loss_test:3.4773\n",
      "Epoch: 077, AUC_train: 0.9091,AUC_test:0.9094 loss_train: 3.3362, loss_test:3.4714\n",
      "Epoch: 078, AUC_train: 0.9094,AUC_test:0.9098 loss_train: 3.3197, loss_test:3.4751\n",
      "Epoch: 079, AUC_train: 0.9098,AUC_test:0.9099 loss_train: 3.3163, loss_test:3.5061\n",
      "Epoch: 080, AUC_train: 0.9099,AUC_test:0.9101 loss_train: 3.2936, loss_test:3.4317\n",
      "Epoch: 081, AUC_train: 0.9101,AUC_test:0.9102 loss_train: 3.2594, loss_test:3.5490\n",
      "Epoch: 082, AUC_train: 0.9102,AUC_test:0.9104 loss_train: 3.2696, loss_test:3.4857\n",
      "Epoch: 083, AUC_train: 0.9104,AUC_test:0.9105 loss_train: 3.2591, loss_test:3.4000\n",
      "Epoch: 084, AUC_train: 0.9105,AUC_test:0.9108 loss_train: 3.2569, loss_test:3.3786\n",
      "Epoch: 085, AUC_train: 0.9108,AUC_test:0.9109 loss_train: 3.2659, loss_test:3.4234\n",
      "Epoch: 086, AUC_train: 0.9109,AUC_test:0.9112 loss_train: 3.2647, loss_test:3.4345\n",
      "Epoch: 087, AUC_train: 0.9112,AUC_test:0.9114 loss_train: 3.2632, loss_test:3.3378\n",
      "Epoch: 088, AUC_train: 0.9114,AUC_test:0.9120 loss_train: 3.2711, loss_test:3.3834\n",
      "Epoch: 089, AUC_train: 0.9120,AUC_test:0.9126 loss_train: 3.2262, loss_test:3.3090\n",
      "Epoch: 090, AUC_train: 0.9126,AUC_test:0.9129 loss_train: 3.2098, loss_test:3.2864\n",
      "Epoch: 091, AUC_train: 0.9129,AUC_test:0.9132 loss_train: 3.1872, loss_test:3.3756\n",
      "Epoch: 092, AUC_train: 0.9132,AUC_test:0.9141 loss_train: 3.1725, loss_test:3.2691\n",
      "Epoch: 093, AUC_train: 0.9141,AUC_test:0.9146 loss_train: 3.1669, loss_test:3.2831\n",
      "Epoch: 094, AUC_train: 0.9146,AUC_test:0.9150 loss_train: 3.0815, loss_test:3.3423\n",
      "Epoch: 095, AUC_train: 0.9150,AUC_test:0.9153 loss_train: 3.1523, loss_test:3.2457\n",
      "Epoch: 096, AUC_train: 0.9153,AUC_test:0.9156 loss_train: 3.1220, loss_test:3.2477\n",
      "Epoch: 097, AUC_train: 0.9156,AUC_test:0.9156 loss_train: 3.1018, loss_test:3.2815\n"
     ]
    },
    {
     "name": "stdout",
     "output_type": "stream",
     "text": [
      "Epoch: 098, AUC_train: 0.9156,AUC_test:0.9156 loss_train: 3.1313, loss_test:3.3268\n",
      "Epoch: 099, AUC_train: 0.9156,AUC_test:0.9159 loss_train: 3.0961, loss_test:3.2537\n"
     ]
    }
   ],
   "source": [
    "model = pyg_nn.GAE(Encoder(dataset.num_features, channels)).to(dev)\n",
    "labels = data.y\n",
    "optimizer = torch.optim.Adam(model.parameters(), lr=0.01)\n",
    "print(\"now training the model\")\n",
    "AUC_, AP_,AUC_train, AP_train,train_loss,test_loss = [],[],[],[],[],[]\n",
    "for epoch in range(0, 100):\n",
    "    AUC_tr, AP_tr,tr_loss = train(epoch,data.test_pos_edge_index, data.test_neg_edge_index)\n",
    "    AUC_train.append(AUC_tr)\n",
    "    AP_train.append(AP_tr)\n",
    "    auc, ap,test_l= test(data.test_pos_edge_index, data.test_neg_edge_index)\n",
    "    AUC_.append(auc)\n",
    "    AP_.append(ap)\n",
    "    train_loss.append(tr_loss)\n",
    "    test_loss.append(test_l)\n",
    "#     writer.add_scalar(\"AUC\", auc, epoch)\n",
    "#     writer.add_scalar(\"AP\", ap, epoch)\n",
    "#     if epoch % 10 == 0:\n",
    "    print('Epoch: {:03d}, AUC_train: {:.4f},AUC_test:{:.4f} loss_train: {:.4f}, loss_test:{:.4f}'.format(epoch, AUC_tr, auc,tr_loss, test_l))"
   ]
  },
  {
   "cell_type": "code",
   "execution_count": 7,
   "metadata": {},
   "outputs": [],
   "source": [
    "file = open(\"results_transactions_16-12-15.csv\",'a',newline = '')\n",
    "res_writer = csv.writer(file, delimiter=',',quotechar='|', quoting=csv.QUOTE_MINIMAL)\n",
    "res_writer.writerow([\"sequence => auc_train\",\"auc_test\",\"ap_train\",\"ap_test\",\"train loss\",\"test loss\"])\n",
    "res_writer.writerow(AUC_train)\n",
    "res_writer.writerow(AUC_)\n",
    "res_writer.writerow(AP_train)\n",
    "res_writer.writerow(AP_)\n",
    "res_writer.writerow(train_loss)\n",
    "res_writer.writerow(test_loss)\n",
    "file.flush()\n",
    "file.close()"
   ]
  },
  {
   "cell_type": "code",
   "execution_count": 8,
   "metadata": {},
   "outputs": [
    {
     "data": {
      "image/png": "[encoded data removed]",
      "text/plain": [
       "<Figure size 432x288 with 1 Axes>"
      ]
     },
     "metadata": {
      "needs_background": "light"
     },
     "output_type": "display_data"
    }
   ],
   "source": [
    "fig = plt.figure()\n",
    "\n",
    "plt.plot(AUC_train[:100],linewidth=2, label = 'AUC_train')\n",
    "plt.plot(AUC_[:100],linewidth=2, label = 'AUC_test')\n",
    "plt.legend()\n",
    "plt.xlabel(\"#epochs\")\n",
    "plt.ylabel(\"AUC\")\n",
    "plt.show()\n",
    "fig.savefig(\"../figures/transactions_16-12-15_AUC_curves1-new.pdf\")"
   ]
  },
  {
   "cell_type": "code",
   "execution_count": 9,
   "metadata": {},
   "outputs": [
    {
     "data": {
      "image/png": "[encoded data removed]",
      "text/plain": [
       "<Figure size 432x288 with 1 Axes>"
      ]
     },
     "metadata": {
      "needs_background": "light"
     },
     "output_type": "display_data"
    }
   ],
   "source": [
    "fig = plt.figure()\n",
    "\n",
    "plt.plot(AP_train[:100],linewidth=2, label = 'AP_train')\n",
    "plt.plot(AP_[:100],linewidth=2, label = 'AP_test')\n",
    "plt.legend()\n",
    "plt.xlabel(\"#epochs\")\n",
    "plt.ylabel(\"AP\")\n",
    "plt.show()\n",
    "fig.savefig(\"../figures/transactions_16-12-15_AP_curves1-new.pdf\")"
   ]
  },
  {
   "cell_type": "code",
   "execution_count": 10,
   "metadata": {},
   "outputs": [
    {
     "data": {
      "image/png": "[encoded data removed]",
      "text/plain": [
       "<Figure size 432x288 with 1 Axes>"
      ]
     },
     "metadata": {
      "needs_background": "light"
     },
     "output_type": "display_data"
    }
   ],
   "source": [
    "fig = plt.figure()\n",
    "plt.plot(train_loss[:100],linewidth=2, label = 'train_loss')\n",
    "plt.plot(test_loss[:100],linewidth=2, label = 'test_loss')\n",
    "plt.legend()\n",
    "plt.xlabel(\"#epochs\")\n",
    "plt.ylabel(\"loss\")\n",
    "plt.show()\n",
    "fig.savefig(\"../figures/transactions_16-12-15_loss_curves1-new.pdf\")"
   ]
  },
  {
   "cell_type": "code",
   "execution_count": 4,
   "metadata": {},
   "outputs": [
    {
     "name": "stdout",
     "output_type": "stream",
     "text": [
      "graph loaded!!! Name: \n",
      "Type: Graph\n",
      "Number of nodes: 34822\n",
      "Number of edges: 53870\n",
      "Average degree:   3.0940\n"
     ]
    }
   ],
   "source": [
    "graph= nx.read_graphml(\"data/transactions_16-12-11.graphml\")\n",
    "graph=nx.Graph(graph)\n",
    "print(\"graph loaded!!!\", nx.info(graph))\n",
    "deg = sorted(list(dict(nx.degree(graph)).values()),reverse = True)"
   ]
  }
 ],
 "metadata": {
  "accelerator": "GPU",
  "colab": {
   "collapsed_sections": [],
   "name": "Graph Neural Networks",
   "provenance": []
  },
  "kernelspec": {
   "display_name": "my_env",
   "language": "python",
   "name": "my_env"
  },
  "language_info": {
   "codemirror_mode": {
    "name": "ipython",
    "version": 3
   },
   "file_extension": ".py",
   "mimetype": "text/x-python",
   "name": "python",
   "nbconvert_exporter": "python",
   "pygments_lexer": "ipython3",
   "version": "3.8.5"
  }
 },
 "nbformat": 4,
 "nbformat_minor": 1
}
